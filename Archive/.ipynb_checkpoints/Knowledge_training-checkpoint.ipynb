{
 "cells": [
  {
   "cell_type": "code",
   "execution_count": 1,
   "metadata": {
    "collapsed": true,
    "slideshow": {
     "slide_type": "subslide"
    }
   },
   "outputs": [],
   "source": [
    "import numpy as np\n",
    "import pandas as pd"
   ]
  },
  {
   "cell_type": "markdown",
   "metadata": {},
   "source": [
    "# Voice Gender\n",
    "Gender Recognition by Voice and Speech Analysis\n",
    "\n",
    "This database was created to identify a voice as male or female, based upon acoustic properties of the voice and speech. The dataset consists of 3,168 recorded voice samples, collected from male and female speakers. The voice samples are pre-processed by acoustic analysis in R using the seewave and tuneR packages, with an analyzed frequency range of 0hz-280hz (human vocal range).\n",
    "\n",
    "## The Dataset\n",
    "The following acoustic properties of each voice are measured and included within the CSV:\n",
    "\n",
    "* meanfreq: mean frequency (in kHz)\n",
    "* sd: standard deviation of frequency\n",
    "* median: median frequency (in kHz)\n",
    "* Q25: first quantile (in kHz)\n",
    "* Q75: third quantile (in kHz)\n",
    "* IQR: interquantile range (in kHz)\n",
    "* skew: skewness (see note in specprop description)\n",
    "* kurt: kurtosis (see note in specprop description)\n",
    "* sp.ent: spectral entropy\n",
    "* sfm: spectral flatness\n",
    "* mode: mode frequency\n",
    "* centroid: frequency centroid (see specprop)\n",
    "* peakf: peak frequency (frequency with highest energy)\n",
    "* meanfun: average of fundamental frequency measured across acoustic signal\n",
    "* minfun: minimum fundamental frequency measured across acoustic signal\n",
    "* maxfun: maximum fundamental frequency measured across acoustic signal\n",
    "* meandom: average of dominant frequency measured across acoustic signal\n",
    "* mindom: minimum of dominant frequency measured across acoustic signal\n",
    "* maxdom: maximum of dominant frequency measured across acoustic signal\n",
    "* dfrange: range of dominant frequency measured across acoustic signal\n",
    "* modindx: modulation index. Calculated as the accumulated absolute difference between adjacent measurements of fundamental frequencies divided by the frequency range\n",
    "* label: male or female"
   ]
  },
  {
   "cell_type": "code",
   "execution_count": 11,
   "metadata": {
    "slideshow": {
     "slide_type": "fragment"
    }
   },
   "outputs": [
    {
     "data": {
      "text/html": [
       "<div>\n",
       "<style>\n",
       "    .dataframe thead tr:only-child th {\n",
       "        text-align: right;\n",
       "    }\n",
       "\n",
       "    .dataframe thead th {\n",
       "        text-align: left;\n",
       "    }\n",
       "\n",
       "    .dataframe tbody tr th {\n",
       "        vertical-align: top;\n",
       "    }\n",
       "</style>\n",
       "<table border=\"1\" class=\"dataframe\">\n",
       "  <thead>\n",
       "    <tr style=\"text-align: right;\">\n",
       "      <th></th>\n",
       "      <th>Administration and Management</th>\n",
       "      <th>Clerical</th>\n",
       "      <th>Economics and Accounting</th>\n",
       "      <th>Sales and Marketing</th>\n",
       "      <th>Customer and Personal Service</th>\n",
       "      <th>Personnel and Human Resources</th>\n",
       "      <th>Production and Processing</th>\n",
       "      <th>Food Production</th>\n",
       "      <th>Computers and Electronics</th>\n",
       "      <th>Engineering and Technology</th>\n",
       "      <th>...</th>\n",
       "      <th>Foreign Language</th>\n",
       "      <th>Fine Arts</th>\n",
       "      <th>History and Archeology</th>\n",
       "      <th>Philosophy and Theology</th>\n",
       "      <th>Public Safety and Security</th>\n",
       "      <th>Law and Government</th>\n",
       "      <th>Telecommunications</th>\n",
       "      <th>Communications and Media</th>\n",
       "      <th>Transportation</th>\n",
       "      <th>Title</th>\n",
       "    </tr>\n",
       "  </thead>\n",
       "  <tbody>\n",
       "    <tr>\n",
       "      <th>0</th>\n",
       "      <td>4.75</td>\n",
       "      <td>2.66</td>\n",
       "      <td>3.70</td>\n",
       "      <td>3.23</td>\n",
       "      <td>4.09</td>\n",
       "      <td>4.10</td>\n",
       "      <td>2.63</td>\n",
       "      <td>1.14</td>\n",
       "      <td>2.23</td>\n",
       "      <td>1.75</td>\n",
       "      <td>...</td>\n",
       "      <td>1.56</td>\n",
       "      <td>1.43</td>\n",
       "      <td>1.48</td>\n",
       "      <td>1.70</td>\n",
       "      <td>3.30</td>\n",
       "      <td>3.92</td>\n",
       "      <td>1.76</td>\n",
       "      <td>2.70</td>\n",
       "      <td>2.21</td>\n",
       "      <td>Chief Executives</td>\n",
       "    </tr>\n",
       "    <tr>\n",
       "      <th>1</th>\n",
       "      <td>3.85</td>\n",
       "      <td>2.58</td>\n",
       "      <td>2.96</td>\n",
       "      <td>3.50</td>\n",
       "      <td>3.62</td>\n",
       "      <td>2.72</td>\n",
       "      <td>2.23</td>\n",
       "      <td>1.64</td>\n",
       "      <td>2.65</td>\n",
       "      <td>3.35</td>\n",
       "      <td>...</td>\n",
       "      <td>1.40</td>\n",
       "      <td>1.38</td>\n",
       "      <td>1.80</td>\n",
       "      <td>1.85</td>\n",
       "      <td>2.40</td>\n",
       "      <td>2.88</td>\n",
       "      <td>1.58</td>\n",
       "      <td>2.84</td>\n",
       "      <td>2.42</td>\n",
       "      <td>Chief Sustainability Officers</td>\n",
       "    </tr>\n",
       "    <tr>\n",
       "      <th>2</th>\n",
       "      <td>4.35</td>\n",
       "      <td>3.51</td>\n",
       "      <td>3.47</td>\n",
       "      <td>3.47</td>\n",
       "      <td>3.95</td>\n",
       "      <td>3.76</td>\n",
       "      <td>3.39</td>\n",
       "      <td>1.34</td>\n",
       "      <td>3.33</td>\n",
       "      <td>2.42</td>\n",
       "      <td>...</td>\n",
       "      <td>1.62</td>\n",
       "      <td>1.16</td>\n",
       "      <td>1.21</td>\n",
       "      <td>1.51</td>\n",
       "      <td>3.10</td>\n",
       "      <td>2.95</td>\n",
       "      <td>2.50</td>\n",
       "      <td>2.59</td>\n",
       "      <td>2.20</td>\n",
       "      <td>General and Operations Managers</td>\n",
       "    </tr>\n",
       "    <tr>\n",
       "      <th>3</th>\n",
       "      <td>4.11</td>\n",
       "      <td>3.10</td>\n",
       "      <td>2.21</td>\n",
       "      <td>3.88</td>\n",
       "      <td>3.79</td>\n",
       "      <td>2.40</td>\n",
       "      <td>3.12</td>\n",
       "      <td>1.20</td>\n",
       "      <td>3.43</td>\n",
       "      <td>1.33</td>\n",
       "      <td>...</td>\n",
       "      <td>1.68</td>\n",
       "      <td>2.90</td>\n",
       "      <td>1.34</td>\n",
       "      <td>1.47</td>\n",
       "      <td>1.78</td>\n",
       "      <td>1.87</td>\n",
       "      <td>3.06</td>\n",
       "      <td>4.33</td>\n",
       "      <td>1.61</td>\n",
       "      <td>Advertising and Promotions Managers</td>\n",
       "    </tr>\n",
       "    <tr>\n",
       "      <th>4</th>\n",
       "      <td>4.04</td>\n",
       "      <td>3.01</td>\n",
       "      <td>3.10</td>\n",
       "      <td>4.85</td>\n",
       "      <td>3.85</td>\n",
       "      <td>2.71</td>\n",
       "      <td>2.46</td>\n",
       "      <td>1.12</td>\n",
       "      <td>3.51</td>\n",
       "      <td>2.77</td>\n",
       "      <td>...</td>\n",
       "      <td>1.64</td>\n",
       "      <td>1.70</td>\n",
       "      <td>1.68</td>\n",
       "      <td>1.64</td>\n",
       "      <td>2.50</td>\n",
       "      <td>2.86</td>\n",
       "      <td>2.86</td>\n",
       "      <td>3.80</td>\n",
       "      <td>1.68</td>\n",
       "      <td>Marketing Managers</td>\n",
       "    </tr>\n",
       "  </tbody>\n",
       "</table>\n",
       "<p>5 rows × 34 columns</p>\n",
       "</div>"
      ],
      "text/plain": [
       "   Administration and Management  Clerical  Economics and Accounting  \\\n",
       "0                           4.75      2.66                      3.70   \n",
       "1                           3.85      2.58                      2.96   \n",
       "2                           4.35      3.51                      3.47   \n",
       "3                           4.11      3.10                      2.21   \n",
       "4                           4.04      3.01                      3.10   \n",
       "\n",
       "   Sales and Marketing  Customer and Personal Service  \\\n",
       "0                 3.23                           4.09   \n",
       "1                 3.50                           3.62   \n",
       "2                 3.47                           3.95   \n",
       "3                 3.88                           3.79   \n",
       "4                 4.85                           3.85   \n",
       "\n",
       "   Personnel and Human Resources  Production and Processing  Food Production  \\\n",
       "0                           4.10                       2.63             1.14   \n",
       "1                           2.72                       2.23             1.64   \n",
       "2                           3.76                       3.39             1.34   \n",
       "3                           2.40                       3.12             1.20   \n",
       "4                           2.71                       2.46             1.12   \n",
       "\n",
       "   Computers and Electronics  Engineering and Technology  \\\n",
       "0                       2.23                        1.75   \n",
       "1                       2.65                        3.35   \n",
       "2                       3.33                        2.42   \n",
       "3                       3.43                        1.33   \n",
       "4                       3.51                        2.77   \n",
       "\n",
       "                  ...                   Foreign Language  Fine Arts  \\\n",
       "0                 ...                               1.56       1.43   \n",
       "1                 ...                               1.40       1.38   \n",
       "2                 ...                               1.62       1.16   \n",
       "3                 ...                               1.68       2.90   \n",
       "4                 ...                               1.64       1.70   \n",
       "\n",
       "   History and Archeology  Philosophy and Theology  \\\n",
       "0                    1.48                     1.70   \n",
       "1                    1.80                     1.85   \n",
       "2                    1.21                     1.51   \n",
       "3                    1.34                     1.47   \n",
       "4                    1.68                     1.64   \n",
       "\n",
       "   Public Safety and Security  Law and Government  Telecommunications  \\\n",
       "0                        3.30                3.92                1.76   \n",
       "1                        2.40                2.88                1.58   \n",
       "2                        3.10                2.95                2.50   \n",
       "3                        1.78                1.87                3.06   \n",
       "4                        2.50                2.86                2.86   \n",
       "\n",
       "   Communications and Media  Transportation  \\\n",
       "0                      2.70            2.21   \n",
       "1                      2.84            2.42   \n",
       "2                      2.59            2.20   \n",
       "3                      4.33            1.61   \n",
       "4                      3.80            1.68   \n",
       "\n",
       "                                 Title  \n",
       "0                     Chief Executives  \n",
       "1        Chief Sustainability Officers  \n",
       "2      General and Operations Managers  \n",
       "3  Advertising and Promotions Managers  \n",
       "4                   Marketing Managers  \n",
       "\n",
       "[5 rows x 34 columns]"
      ]
     },
     "execution_count": 11,
     "metadata": {},
     "output_type": "execute_result"
    }
   ],
   "source": [
    "knowledge = pd.read_csv('Data/knowledge_trainingV1.csv')\n",
    "knowledge.head()"
   ]
  },
  {
   "cell_type": "markdown",
   "metadata": {
    "slideshow": {
     "slide_type": "subslide"
    }
   },
   "source": [
    "## Data Pre-Processing"
   ]
  },
  {
   "cell_type": "code",
   "execution_count": 12,
   "metadata": {
    "nbgrader": {
     "grade": false,
     "grade_id": "cell-86a9e3212f200d21",
     "locked": false,
     "schema_version": 1,
     "solution": true
    },
    "slideshow": {
     "slide_type": "subslide"
    }
   },
   "outputs": [
    {
     "name": "stdout",
     "output_type": "stream",
     "text": [
      "(5796, 33) (5796,)\n"
     ]
    }
   ],
   "source": [
    "X = knowledge.drop(\"Title\", axis=1)\n",
    "y = knowledge[\"Title\"]\n",
    "print(X.shape, y.shape)"
   ]
  },
  {
   "cell_type": "code",
   "execution_count": 13,
   "metadata": {
    "nbgrader": {
     "grade": false,
     "grade_id": "cell-711a82d9b32c83ff",
     "locked": false,
     "schema_version": 1,
     "solution": true
    },
    "slideshow": {
     "slide_type": "fragment"
    }
   },
   "outputs": [],
   "source": [
    "from sklearn.model_selection import train_test_split\n",
    "from sklearn.preprocessing import LabelEncoder, StandardScaler\n",
    "from keras.utils import to_categorical\n",
    "\n",
    "X_train, X_test, y_train, y_test = train_test_split(X, y, random_state=1, stratify=y)\n",
    "\n",
    "X_scaler = StandardScaler().fit(X_train)\n",
    "\n",
    "X_train_scaled = X_scaler.transform(X_train)\n",
    "X_test_scaled = X_scaler.transform(X_test)\n",
    "\n",
    "\n",
    "# Step 1: Label-encode data set\n",
    "label_encoder = LabelEncoder()\n",
    "label_encoder.fit(y_train)\n",
    "\n",
    "encoded_y_train = label_encoder.transform(y_train)\n",
    "encoded_y_test = label_encoder.transform(y_test)\n",
    "\n",
    "\n",
    "# Step 2: Convert encoded labels to one-hot-encoding\n",
    "y_train_categorical = to_categorical(encoded_y_train)\n",
    "y_test_categorical = to_categorical(encoded_y_test)"
   ]
  },
  {
   "cell_type": "markdown",
   "metadata": {},
   "source": [
    "# Create a Deep Learning Model"
   ]
  },
  {
   "cell_type": "code",
   "execution_count": 14,
   "metadata": {
    "collapsed": true
   },
   "outputs": [],
   "source": [
    "from keras.models import Sequential\n",
    "from keras.layers import Dense\n",
    "\n",
    "model = Sequential()\n",
    "\n",
    "model.add(Dense(units=160, activation='relu', input_dim=33))\n",
    "\n",
    "model.add(Dense(units=160, activation='relu'))\n",
    "\n",
    "model.add(Dense(units=966, activation='softmax'))\n"
   ]
  },
  {
   "cell_type": "code",
   "execution_count": 15,
   "metadata": {},
   "outputs": [
    {
     "name": "stdout",
     "output_type": "stream",
     "text": [
      "Epoch 1/60\n",
      " - 2s - loss: 5.9232 - acc: 0.0893\n",
      "Epoch 2/60\n",
      " - 1s - loss: 1.6682 - acc: 0.6724\n",
      "Epoch 3/60\n",
      " - 1s - loss: 0.4218 - acc: 0.9195\n",
      "Epoch 4/60\n",
      " - 1s - loss: 0.1686 - acc: 0.9687\n",
      "Epoch 5/60\n",
      " - 1s - loss: 0.0857 - acc: 0.9853\n",
      "Epoch 6/60\n",
      " - 1s - loss: 0.0504 - acc: 0.9910\n",
      "Epoch 7/60\n",
      " - 1s - loss: 0.0308 - acc: 0.9968\n",
      "Epoch 8/60\n",
      " - 1s - loss: 0.0200 - acc: 0.9984\n",
      "Epoch 9/60\n",
      " - 1s - loss: 0.0107 - acc: 1.0000\n",
      "Epoch 10/60\n",
      " - 1s - loss: 0.0087 - acc: 0.9998\n",
      "Epoch 11/60\n",
      " - 1s - loss: 0.0073 - acc: 0.9998\n",
      "Epoch 12/60\n",
      " - 1s - loss: 0.0053 - acc: 1.0000\n",
      "Epoch 13/60\n",
      " - 1s - loss: 0.0046 - acc: 0.9998\n",
      "Epoch 14/60\n",
      " - 1s - loss: 0.0055 - acc: 0.9995\n",
      "Epoch 15/60\n",
      " - 1s - loss: 0.0030 - acc: 1.0000\n",
      "Epoch 16/60\n",
      " - 1s - loss: 0.0025 - acc: 1.0000\n",
      "Epoch 17/60\n",
      " - 1s - loss: 0.0022 - acc: 1.0000\n",
      "Epoch 18/60\n",
      " - 1s - loss: 0.0019 - acc: 1.0000\n",
      "Epoch 19/60\n",
      " - 1s - loss: 0.0016 - acc: 1.0000\n",
      "Epoch 20/60\n",
      " - 1s - loss: 0.0014 - acc: 1.0000\n",
      "Epoch 21/60\n",
      " - 1s - loss: 0.0013 - acc: 1.0000\n",
      "Epoch 22/60\n",
      " - 1s - loss: 0.0011 - acc: 1.0000\n",
      "Epoch 23/60\n",
      " - 1s - loss: 9.8478e-04 - acc: 1.0000\n",
      "Epoch 24/60\n",
      " - 1s - loss: 8.7386e-04 - acc: 1.0000\n",
      "Epoch 25/60\n",
      " - 1s - loss: 7.8469e-04 - acc: 1.0000\n",
      "Epoch 26/60\n",
      " - 1s - loss: 6.9726e-04 - acc: 1.0000\n",
      "Epoch 27/60\n",
      " - 1s - loss: 6.2898e-04 - acc: 1.0000\n",
      "Epoch 28/60\n",
      " - 1s - loss: 5.6496e-04 - acc: 1.0000\n",
      "Epoch 29/60\n",
      " - 1s - loss: 5.0877e-04 - acc: 1.0000\n",
      "Epoch 30/60\n",
      " - 1s - loss: 4.5850e-04 - acc: 1.0000\n",
      "Epoch 31/60\n",
      " - 1s - loss: 4.1606e-04 - acc: 1.0000\n",
      "Epoch 32/60\n",
      " - 1s - loss: 3.7833e-04 - acc: 1.0000\n",
      "Epoch 33/60\n",
      " - 1s - loss: 3.4160e-04 - acc: 1.0000\n",
      "Epoch 34/60\n",
      " - 1s - loss: 3.1075e-04 - acc: 1.0000\n",
      "Epoch 35/60\n",
      " - 1s - loss: 2.8340e-04 - acc: 1.0000\n",
      "Epoch 36/60\n",
      " - 1s - loss: 2.5776e-04 - acc: 1.0000\n",
      "Epoch 37/60\n",
      " - 1s - loss: 2.3652e-04 - acc: 1.0000\n",
      "Epoch 38/60\n",
      " - 1s - loss: 2.1638e-04 - acc: 1.0000\n",
      "Epoch 39/60\n",
      " - 1s - loss: 1.9630e-04 - acc: 1.0000\n",
      "Epoch 40/60\n",
      " - 1s - loss: 1.7942e-04 - acc: 1.0000\n",
      "Epoch 41/60\n",
      " - 1s - loss: 1.6462e-04 - acc: 1.0000\n",
      "Epoch 42/60\n",
      " - 1s - loss: 1.5061e-04 - acc: 1.0000\n",
      "Epoch 43/60\n",
      " - 1s - loss: 1.3824e-04 - acc: 1.0000\n",
      "Epoch 44/60\n",
      " - 1s - loss: 1.2641e-04 - acc: 1.0000\n",
      "Epoch 45/60\n",
      " - 1s - loss: 1.1663e-04 - acc: 1.0000\n",
      "Epoch 46/60\n",
      " - 1s - loss: 1.0698e-04 - acc: 1.0000\n",
      "Epoch 47/60\n",
      " - 1s - loss: 9.8769e-05 - acc: 1.0000\n",
      "Epoch 48/60\n",
      " - 1s - loss: 8.9860e-05 - acc: 1.0000\n",
      "Epoch 49/60\n",
      " - 1s - loss: 8.3173e-05 - acc: 1.0000\n",
      "Epoch 50/60\n",
      " - 1s - loss: 7.6387e-05 - acc: 1.0000\n",
      "Epoch 51/60\n",
      " - 1s - loss: 7.0166e-05 - acc: 1.0000\n",
      "Epoch 52/60\n",
      " - 1s - loss: 6.4449e-05 - acc: 1.0000\n",
      "Epoch 53/60\n",
      " - 1s - loss: 5.9711e-05 - acc: 1.0000\n",
      "Epoch 54/60\n",
      " - 1s - loss: 5.4901e-05 - acc: 1.0000\n",
      "Epoch 55/60\n",
      " - 1s - loss: 5.0736e-05 - acc: 1.0000\n",
      "Epoch 56/60\n",
      " - 1s - loss: 4.6785e-05 - acc: 1.0000\n",
      "Epoch 57/60\n",
      " - 2s - loss: 4.3128e-05 - acc: 1.0000\n",
      "Epoch 58/60\n",
      " - 1s - loss: 3.9569e-05 - acc: 1.0000\n",
      "Epoch 59/60\n",
      " - 1s - loss: 3.6570e-05 - acc: 1.0000\n",
      "Epoch 60/60\n",
      " - 1s - loss: 3.3891e-05 - acc: 1.0000\n"
     ]
    },
    {
     "data": {
      "text/plain": [
       "<keras.callbacks.History at 0x10965ea20>"
      ]
     },
     "execution_count": 15,
     "metadata": {},
     "output_type": "execute_result"
    }
   ],
   "source": [
    "model.compile(optimizer='adam', \n",
    "              loss='categorical_crossentropy', \n",
    "              metrics=['accuracy'])\n",
    "\n",
    "\n",
    "model.fit(\n",
    "    X_train_scaled,\n",
    "    y_train_categorical,\n",
    "    epochs=60,\n",
    "    shuffle=True,\n",
    "    verbose=2\n",
    ")\n",
    "\n"
   ]
  },
  {
   "cell_type": "markdown",
   "metadata": {},
   "source": [
    "## Quantify our Trained Model"
   ]
  },
  {
   "cell_type": "code",
   "execution_count": 16,
   "metadata": {},
   "outputs": [
    {
     "name": "stdout",
     "output_type": "stream",
     "text": [
      "Normal Neural Network - Loss: 3.270377047707663e-05, Accuracy: 1.0\n"
     ]
    }
   ],
   "source": [
    "model_loss, model_accuracy = model.evaluate(X_test_scaled, y_test_categorical, verbose=2)\n",
    "\n",
    "print(f\"Normal Neural Network - Loss: {model_loss}, Accuracy: {model_accuracy}\")"
   ]
  },
  {
   "cell_type": "markdown",
   "metadata": {
    "slideshow": {
     "slide_type": "subslide"
    }
   },
   "source": [
    "## Make Predictions"
   ]
  },
  {
   "cell_type": "code",
   "execution_count": 8,
   "metadata": {
    "collapsed": true
   },
   "outputs": [],
   "source": [
    "\n",
    "test_data = [4, 2, 2, 4, 4, 3, 2, 1, 3.17, 2, 2, 1, 2, 3, 1, 1, 1, 3, 2, 2, 1, 2, 3, 4, 2, 1, 1, 2, 2, 2, 3, 3, 2]\n"
   ]
  },
  {
   "cell_type": "code",
   "execution_count": null,
   "metadata": {
    "collapsed": true
   },
   "outputs": [],
   "source": [
    "### BEGIN SOLUTION\n",
    "encoded_predictions = model.predict_classes(test_data)\n",
    "\n",
    "prediction_labels = label_encoder.inverse_transform(encoded_predictions)\n",
    "\n",
    "print(f\"Predicted classes: {prediction_labels}\")\n",
    "print(f\"Actual Labels: Sales Rep\")\n",
    "### END SOLUTION"
   ]
  },
  {
   "cell_type": "code",
   "execution_count": 17,
   "metadata": {
    "nbgrader": {
     "grade": false,
     "grade_id": "cell-f97eb3e97245187b",
     "locked": false,
     "schema_version": 1,
     "solution": true
    },
    "slideshow": {
     "slide_type": "fragment"
    }
   },
   "outputs": [
    {
     "name": "stdout",
     "output_type": "stream",
     "text": [
      "Predicted classes: ['Operating Engineers and Other Construction Equipment Operators'\n",
      " 'Security Management Specialists' 'Pipe Fitters and Steamfitters'\n",
      " 'Career/Technical Education Teachers, Secondary School'\n",
      " 'Ophthalmic Medical Technicians']\n",
      "Actual Labels: ['Operating Engineers and Other Construction Equipment Operators', 'Security Management Specialists', 'Pipe Fitters and Steamfitters', 'Career/Technical Education Teachers, Secondary School', 'Ophthalmic Medical Technicians']\n"
     ]
    }
   ],
   "source": [
    "### BEGIN SOLUTION\n",
    "encoded_predictions = model.predict_classes(X_test_scaled[:5])\n",
    "\n",
    "prediction_labels = label_encoder.inverse_transform(encoded_predictions)\n",
    "\n",
    "print(f\"Predicted classes: {prediction_labels}\")\n",
    "print(f\"Actual Labels: {list(y_test[:5])}\")\n",
    "### END SOLUTION"
   ]
  }
 ],
 "metadata": {
  "kernelspec": {
   "display_name": "Python 3",
   "language": "python",
   "name": "python3"
  },
  "language_info": {
   "codemirror_mode": {
    "name": "ipython",
    "version": 3
   },
   "file_extension": ".py",
   "mimetype": "text/x-python",
   "name": "python",
   "nbconvert_exporter": "python",
   "pygments_lexer": "ipython3",
   "version": "3.6.3"
  },
  "varInspector": {
   "cols": {
    "lenName": 16,
    "lenType": 16,
    "lenVar": 40
   },
   "kernels_config": {
    "python": {
     "delete_cmd_postfix": "",
     "delete_cmd_prefix": "del ",
     "library": "var_list.py",
     "varRefreshCmd": "print(var_dic_list())"
    },
    "r": {
     "delete_cmd_postfix": ") ",
     "delete_cmd_prefix": "rm(",
     "library": "var_list.r",
     "varRefreshCmd": "cat(var_dic_list()) "
    }
   },
   "types_to_exclude": [
    "module",
    "function",
    "builtin_function_or_method",
    "instance",
    "_Feature"
   ],
   "window_display": false
  }
 },
 "nbformat": 4,
 "nbformat_minor": 2
}
